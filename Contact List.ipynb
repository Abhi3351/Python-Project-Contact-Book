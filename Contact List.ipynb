{
 "cells": [
  {
   "cell_type": "code",
   "execution_count": 1,
   "id": "f3eb3b0c-ee11-4984-a303-62f951850ef3",
   "metadata": {},
   "outputs": [
    {
     "name": "stdout",
     "output_type": "stream",
     "text": [
      "\n",
      "contact Book App\n",
      "1. create contact\n",
      "2. view contact\n",
      "3. update contact\n",
      "4. Delete contact\n",
      "5. search contact\n",
      "6. count contact\n",
      "7. Exit\n"
     ]
    },
    {
     "name": "stdin",
     "output_type": "stream",
     "text": [
      "enter your choice =  1\n",
      "enter your name =  Abhishek Bhatnagar\n",
      "Enter age =  29\n",
      "Enter email =  Abhishek.bhatnagar42@gmail.com\n",
      "Enter mobile number = 8755113040\n"
     ]
    },
    {
     "name": "stdout",
     "output_type": "stream",
     "text": [
      "contact name Abhishek Bhatnagar has been created successfully!\n",
      "\n",
      "contact Book App\n",
      "1. create contact\n",
      "2. view contact\n",
      "3. update contact\n",
      "4. Delete contact\n",
      "5. search contact\n",
      "6. count contact\n",
      "7. Exit\n"
     ]
    },
    {
     "name": "stdin",
     "output_type": "stream",
     "text": [
      "enter your choice =  2\n",
      "enter contact name to view =  Abhishek Bhatnagar\n"
     ]
    },
    {
     "name": "stdout",
     "output_type": "stream",
     "text": [
      "Name: Abhishek Bhatnagar,age:29, Mobile Number:8755113040\n",
      "\n",
      "contact Book App\n",
      "1. create contact\n",
      "2. view contact\n",
      "3. update contact\n",
      "4. Delete contact\n",
      "5. search contact\n",
      "6. count contact\n",
      "7. Exit\n"
     ]
    },
    {
     "name": "stdin",
     "output_type": "stream",
     "text": [
      "enter your choice =  3\n",
      "Enter name to update contact =  Abhishek Bhatnagar\n",
      "Enter updated age =  28\n",
      "Enter updated email =  Abhishek.Bhatnagar4422@gmail.com\n",
      "Enter updated mobile number =  8755113040\n"
     ]
    },
    {
     "name": "stdout",
     "output_type": "stream",
     "text": [
      "\n",
      "contact Book App\n",
      "1. create contact\n",
      "2. view contact\n",
      "3. update contact\n",
      "4. Delete contact\n",
      "5. search contact\n",
      "6. count contact\n",
      "7. Exit\n"
     ]
    },
    {
     "name": "stdin",
     "output_type": "stream",
     "text": [
      "enter your choice =  4\n",
      "Enter contact name to delete Abhishek Bhatnagar\n"
     ]
    },
    {
     "name": "stdout",
     "output_type": "stream",
     "text": [
      "contact name Abhishek Bhatnagar has been deleted successfully!\n",
      "\n",
      "contact Book App\n",
      "1. create contact\n",
      "2. view contact\n",
      "3. update contact\n",
      "4. Delete contact\n",
      "5. search contact\n",
      "6. count contact\n",
      "7. Exit\n"
     ]
    },
    {
     "name": "stdin",
     "output_type": "stream",
     "text": [
      "enter your choice =  5\n",
      "Enter contact name to search =  Abhishek Bhatnagar\n"
     ]
    },
    {
     "name": "stdout",
     "output_type": "stream",
     "text": [
      "no contact found with that name\n",
      "\n",
      "contact Book App\n",
      "1. create contact\n",
      "2. view contact\n",
      "3. update contact\n",
      "4. Delete contact\n",
      "5. search contact\n",
      "6. count contact\n",
      "7. Exit\n"
     ]
    },
    {
     "name": "stdin",
     "output_type": "stream",
     "text": [
      "enter your choice =  6\n"
     ]
    },
    {
     "name": "stdout",
     "output_type": "stream",
     "text": [
      "Total contacts in your book : 0\n",
      "\n",
      "contact Book App\n",
      "1. create contact\n",
      "2. view contact\n",
      "3. update contact\n",
      "4. Delete contact\n",
      "5. search contact\n",
      "6. count contact\n",
      "7. Exit\n"
     ]
    },
    {
     "name": "stdin",
     "output_type": "stream",
     "text": [
      "enter your choice =  7\n"
     ]
    },
    {
     "name": "stdout",
     "output_type": "stream",
     "text": [
      "Goodbye ......... closing the program\n"
     ]
    }
   ],
   "source": [
    "#Contact List...\n",
    "\n",
    "contacts = {}\n",
    "\n",
    "while True:\n",
    "    print('\\ncontact Book App')\n",
    "    print('1. create contact')\n",
    "    print('2. view contact')\n",
    "    print('3. update contact')\n",
    "    print('4. Delete contact')\n",
    "    print('5. search contact')\n",
    "    print('6. count contact')\n",
    "    print('7. Exit')\n",
    "\n",
    "    choice = input('enter your choice = ')\n",
    "\n",
    "    if choice == '1' : \n",
    "        name= input('enter your name = ')\n",
    "        if name in contacts:\n",
    "            print(f'contact name {name} already exists!')\n",
    "\n",
    "        else:\n",
    "            age = input('Enter age = ' )\n",
    "            email = input('Enter email = ')\n",
    "            mobile = input('Enter mobile number =')\n",
    "            contacts[name] = {'age':int(age), 'email':email, 'mobile':mobile}\n",
    "            print(f'contact name {name} has been created successfully!')\n",
    "\n",
    "\n",
    "    elif choice == '2':\n",
    "        name = input('enter contact name to view = ')\n",
    "        if name in contacts:\n",
    "            contact = contacts[name]\n",
    "            print(f'Name: {name},age:{age}, Mobile Number:{mobile}')\n",
    "\n",
    "        else:\n",
    "            print('contact Not found!')\n",
    "\n",
    "\n",
    "\n",
    "    elif  choice == '3':\n",
    "        name = input('Enter name to update contact = ' )\n",
    "        if name in contacts:\n",
    "            age = input('Enter updated age = ')\n",
    "            email = input('Enter updated email = ')\n",
    "            mobile = input('Enter updated mobile number = ')\n",
    "            contacts[name] = {'age':int(age), 'email':email, 'mobile':mobile}\n",
    "\n",
    "        else:\n",
    "            print('contact not found!')\n",
    "\n",
    "\n",
    "    elif choice == '4':\n",
    "        name = input('Enter contact name to delete')\n",
    "        if name in contacts:\n",
    "            del contacts[name]\n",
    "            print(f'contact name {name} has been deleted successfully!')\n",
    "\n",
    "        else:\n",
    "            print('contact not found')\n",
    "\n",
    "    elif choice == '5':\n",
    "        search_name = input('Enter contact name to search = ' )\n",
    "        found = False\n",
    "        for name, contact in contacts.items():\n",
    "            if search_name.lower() in name.lower():\n",
    "\n",
    "                print(f'found - Name {name}, Age:{age}. Mobile Number:{mobile},Email:{email}')\n",
    "                found = True\n",
    "\n",
    "        \n",
    "        if not found:\n",
    "            print('no contact found with that name')\n",
    "\n",
    "\n",
    "    elif choice == '6':\n",
    "        print(f'Total contacts in your book : {len(contacts)}')\n",
    "\n",
    "\n",
    "\n",
    "    elif choice == '7':\n",
    "        print('Goodbye ......... closing the program')\n",
    "        break\n",
    "\n",
    "\n",
    "    else:\n",
    "        print('Invalid input')"
   ]
  }
 ],
 "metadata": {
  "kernelspec": {
   "display_name": "Python 3 (ipykernel)",
   "language": "python",
   "name": "python3"
  },
  "language_info": {
   "codemirror_mode": {
    "name": "ipython",
    "version": 3
   },
   "file_extension": ".py",
   "mimetype": "text/x-python",
   "name": "python",
   "nbconvert_exporter": "python",
   "pygments_lexer": "ipython3",
   "version": "3.11.7"
  }
 },
 "nbformat": 4,
 "nbformat_minor": 5
}
